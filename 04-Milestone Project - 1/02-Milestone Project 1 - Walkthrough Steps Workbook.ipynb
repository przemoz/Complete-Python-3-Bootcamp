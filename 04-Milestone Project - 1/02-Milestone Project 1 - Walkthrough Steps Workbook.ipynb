{
 "cells": [
  {
   "cell_type": "markdown",
   "metadata": {},
   "source": [
    "# Milestone Project 1: Walkthrough Steps Workbook\n",
    "\n",
    "Below is a set of steps for you to follow to try to create the Tic Tac Toe Milestone Project game!"
   ]
  },
  {
   "cell_type": "markdown",
   "metadata": {},
   "source": [
    "#### Some suggested tools before you get started:\n",
    "To take input from a user:\n",
    "\n",
    "    player1 = input(\"Please pick a marker 'X' or 'O'\")\n",
    "    \n",
    "Note that input() takes in a string. If you need an integer value, use\n",
    "\n",
    "    position = int(input('Please enter a number'))\n",
    "    \n",
    "<br>To clear the screen between moves:\n",
    "\n",
    "    from IPython.display import clear_output\n",
    "    clear_output()\n",
    "    \n",
    "Note that clear_output() will only work in jupyter. To clear the screen in other IDEs, consider:\n",
    "\n",
    "    print('\\n'*100)\n",
    "    \n",
    "This scrolls the previous board up out of view. Now on to the program!"
   ]
  },
  {
   "cell_type": "markdown",
   "metadata": {},
   "source": [
    "**Step 1: Write a function that can print out a board. Set up your board as a list, where each index 1-9 corresponds with a number on a number pad, so you get a 3 by 3 board representation.**"
   ]
  },
  {
   "cell_type": "code",
   "execution_count": 1,
   "metadata": {},
   "outputs": [],
   "source": [
    "from IPython.display import clear_output\n",
    "\n",
    "def display_board(board):\n",
    "    print('{}|{}|{}'.format(board[7],board[8],board[9]))\n",
    "    print('-+-+-')\n",
    "    print('{}|{}|{}'.format(board[4],board[5],board[6]))\n",
    "    print('-+-+-')\n",
    "    print('{}|{}|{}'.format(board[1],board[2],board[3]))"
   ]
  },
  {
   "cell_type": "markdown",
   "metadata": {},
   "source": [
    "**TEST Step 1:** run your function on a test version of the board list, and make adjustments as necessary"
   ]
  },
  {
   "cell_type": "code",
   "execution_count": 2,
   "metadata": {},
   "outputs": [],
   "source": [
    "test_board = ['#','X','O','X','O','X','O','X','O','X']\n",
    "display_board(test_board)"
   ]
  },
  {
   "cell_type": "markdown",
   "metadata": {},
   "source": [
    "**Step 2: Write a function that can take in a player input and assign their marker as 'X' or 'O'. Think about using *while* loops to continually ask until you get a correct answer.**"
   ]
  },
  {
   "cell_type": "code",
   "execution_count": 14,
   "metadata": {},
   "outputs": [],
   "source": [
    "def player_input():\n",
    "    answer = ''\n",
    "    while answer.lower() != 'x' and answer.lower() != 'o':\n",
    "        print('Player 1: Do you want to be X o O?')\n",
    "        answer = input()\n",
    "        clear_output()\n",
    "\n",
    "    players_markers = {'Player1':answer.upper()}\n",
    "    \n",
    "    if players_markers['Player1'] == 'X':\n",
    "        players_markers['Player2'] = 'O'\n",
    "    else: \n",
    "        players_markers['Player2'] = 'X'\n",
    "        \n",
    "    return players_markers\n",
    "    "
   ]
  },
  {
   "cell_type": "markdown",
   "metadata": {},
   "source": [
    "**TEST Step 2:** run the function to make sure it returns the desired output"
   ]
  },
  {
   "cell_type": "code",
   "execution_count": 15,
   "metadata": {},
   "outputs": [
    {
     "data": {
      "text/plain": [
       "{'Player1': 'X', 'Player2': 'O'}"
      ]
     },
     "execution_count": 15,
     "metadata": {},
     "output_type": "execute_result"
    }
   ],
   "source": [
    "#player_input()"
   ]
  },
  {
   "cell_type": "markdown",
   "metadata": {},
   "source": [
    "**Step 3: Write a function that takes in the board list object, a marker ('X' or 'O'), and a desired position (number 1-9) and assigns it to the board.**"
   ]
  },
  {
   "cell_type": "code",
   "execution_count": 5,
   "metadata": {},
   "outputs": [],
   "source": [
    "def place_marker(board, marker, position):\n",
    "    board[position] = marker\n",
    "    "
   ]
  },
  {
   "cell_type": "markdown",
   "metadata": {},
   "source": [
    "**TEST Step 3:** run the place marker function using test parameters and display the modified board"
   ]
  },
  {
   "cell_type": "code",
   "execution_count": 6,
   "metadata": {},
   "outputs": [
    {
     "name": "stdout",
     "output_type": "stream",
     "text": [
      "X|$|X\n",
      "-+-+-\n",
      "O|X|O\n",
      "-+-+-\n",
      "X|O|X\n"
     ]
    }
   ],
   "source": [
    "place_marker(test_board,'$',8)\n",
    "display_board(test_board)"
   ]
  },
  {
   "cell_type": "markdown",
   "metadata": {},
   "source": [
    "**Step 4: Write a function that takes in a board and a mark (X or O) and then checks to see if that mark has won. **"
   ]
  },
  {
   "cell_type": "code",
   "execution_count": 7,
   "metadata": {},
   "outputs": [],
   "source": [
    "def win_check(board, mark):\n",
    "    wins = [[1,2,3],[4,5,6],[7,8,9],[1,4,7],[2,5,8],[3,6,9],[1,5,9],[3,5,7]]\n",
    "    mark_positions = []\n",
    "    for index in range(1,10):\n",
    "        if board[index] == mark:\n",
    "            mark_positions.append(index)\n",
    "    \n",
    "    for win in wins:\n",
    "        if all(elem in mark_positions for elem in win):\n",
    "            return True\n",
    "    else:\n",
    "        return False"
   ]
  },
  {
   "cell_type": "markdown",
   "metadata": {},
   "source": [
    "**TEST Step 4:** run the win_check function against our test_board - it should return True"
   ]
  },
  {
   "cell_type": "code",
   "execution_count": 8,
   "metadata": {},
   "outputs": [
    {
     "data": {
      "text/plain": [
       "True"
      ]
     },
     "execution_count": 8,
     "metadata": {},
     "output_type": "execute_result"
    }
   ],
   "source": [
    "win_check(test_board,'X')"
   ]
  },
  {
   "cell_type": "markdown",
   "metadata": {},
   "source": [
    "**Step 5: Write a function that uses the random module to randomly decide which player goes first. You may want to lookup random.randint() Return a string of which player went first.**"
   ]
  },
  {
   "cell_type": "code",
   "execution_count": 9,
   "metadata": {},
   "outputs": [
    {
     "data": {
      "text/plain": [
       "'Player1'"
      ]
     },
     "execution_count": 9,
     "metadata": {},
     "output_type": "execute_result"
    }
   ],
   "source": [
    "import random\n",
    "\n",
    "def choose_first():\n",
    "    return 'Player' + str(random.randint(1,2))\n",
    "\n",
    "choose_first()"
   ]
  },
  {
   "cell_type": "markdown",
   "metadata": {},
   "source": [
    "**Step 6: Write a function that returns a boolean indicating whether a space on the board is freely available.**"
   ]
  },
  {
   "cell_type": "code",
   "execution_count": 10,
   "metadata": {},
   "outputs": [],
   "source": [
    "def space_check(board, position):\n",
    "    return board[position] == ' '"
   ]
  },
  {
   "cell_type": "markdown",
   "metadata": {},
   "source": [
    "**Step 7: Write a function that checks if the board is full and returns a boolean value. True if full, False otherwise.**"
   ]
  },
  {
   "cell_type": "code",
   "execution_count": 11,
   "metadata": {},
   "outputs": [],
   "source": [
    "def full_board_check(board):\n",
    "    marks = ['X','O','#']\n",
    "    return all(space in marks for space in board)"
   ]
  },
  {
   "cell_type": "markdown",
   "metadata": {},
   "source": [
    "**Step 8: Write a function that asks for a player's next position (as a number 1-9) and then uses the function from step 6 to check if it's a free position. If it is, then return the position for later use.**"
   ]
  },
  {
   "cell_type": "code",
   "execution_count": null,
   "metadata": {},
   "outputs": [],
   "source": [
    "board = ['#','X',' ',' ','O','X',' ',' ','X','O']\n",
    "\n",
    "def player_choice(board,player):\n",
    "    right_answers = ['1','2','3','4','5','6','7','8','9']\n",
    "    answer = 0\n",
    "    while answer not in right_answers or not space_check(board,int(answer)):\n",
    "        print(\"Choose your next position: (1-9) and available\")\n",
    "        answer = input()\n",
    "        display_board(board)\n",
    "    return int(answer)\n"
   ]
  },
  {
   "cell_type": "markdown",
   "metadata": {},
   "source": [
    "**Step 9: Write a function that asks the player if they want to play again and returns a boolean True if they do want to play again.**"
   ]
  },
  {
   "cell_type": "code",
   "execution_count": null,
   "metadata": {},
   "outputs": [],
   "source": [
    "def replay():\n",
    "    answer = ''\n",
    "    while answer != 'no' and answer !='yes':\n",
    "        print('Do you want to play again? Enter Yes or No:')\n",
    "        answer = input().lower()\n",
    "        \n",
    "    return answer == 'yes'\n",
    "\n",
    "replay()\n"
   ]
  },
  {
   "cell_type": "code",
   "execution_count": 3,
   "metadata": {},
   "outputs": [],
   "source": [
    "from IPython.display import clear_output\n",
    "\n",
    "def display_board(board):\n",
    "    print('{}|{}|{}'.format(board[7],board[8],board[9]))\n",
    "    print('-+-+-')\n",
    "    print('{}|{}|{}'.format(board[4],board[5],board[6]))\n",
    "    print('-+-+-')\n",
    "    print('{}|{}|{}'.format(board[1],board[2],board[3]))\n",
    "\n",
    "def player_input():\n",
    "    answer = ''\n",
    "    while answer.lower() != 'x' and answer.lower() != 'o':\n",
    "        print('Player 1: Do you want to be X o O?')\n",
    "        answer = input()\n",
    "        clear_output()\n",
    "        \n",
    "    players_markers = {'Player1':answer.upper()}\n",
    "    \n",
    "    if players_markers['Player1'] == 'X':\n",
    "        players_markers['Player2'] = 'O'\n",
    "    else: \n",
    "        players_markers['Player2'] = 'X'\n",
    "        \n",
    "    return players_markers\n",
    "\n",
    "def place_marker(board, marker, position):\n",
    "    board[position] = marker\n",
    "    \n",
    "def win_check(board, mark):\n",
    "    wins = [[1,2,3],[4,5,6],[7,8,9],[1,4,7],[2,5,8],[3,6,9],[1,5,9],[3,5,7]]\n",
    "    \n",
    "    for win in wins:\n",
    "        if board[win[0]] == board[win[1]] == board[win[2]] == mark:\n",
    "            return True\n",
    "    else:\n",
    "        return False\n",
    "    \n",
    "\n",
    "import random\n",
    "\n",
    "def choose_first():\n",
    "    return 'Player' + str(random.randint(1,2))\n",
    "\n",
    "def space_check(board, position):\n",
    "    return board[position] == ' '\n",
    "\n",
    "def full_board_check(board):\n",
    "    marks = ['X','O','#']\n",
    "    return all(space in marks for space in board)\n",
    "\n",
    "def players_choice(board,player):\n",
    "    right_answers = ['1','2','3','4','5','6','7','8','9']\n",
    "    answer = 0\n",
    "    while answer not in right_answers or not space_check(board,int(answer)):\n",
    "        print(player +'! NOW It\\'s your turn!')\n",
    "        print(\"Choose your next position: (1-9) and available\")\n",
    "        display_board(board)\n",
    "        answer = input()\n",
    "        clear_output()\n",
    "    return int(answer)\n",
    "\n",
    "def replay():\n",
    "    answer = ''\n",
    "    while answer != 'no' and answer !='yes':\n",
    "        print('Do you want to play again? Enter Yes or No:')\n",
    "        answer = input().lower()\n",
    "        clear_output()\n",
    "        \n",
    "    return answer == 'yes'\n",
    "\n",
    "print('Welcome to Tic Tac Toe!')\n",
    "\n",
    "while True:\n",
    "    # Set the game up here\n",
    "    board = ['#',' ',' ',' ',' ',' ',' ',' ',' ',' ']\n",
    "    players_markers = player_input()\n",
    "    game_on = True\n",
    "    player_on = choose_first()\n",
    "    \n",
    "    while True:\n",
    "\n",
    "        choice = players_choice(board,player_on)\n",
    "        place_marker(board,players_markers[player_on] , choice)\n",
    "        \n",
    "        if win_check(board, players_markers[player_on]):\n",
    "            print('Congratulations! ' + player_on + ' WON the game!')\n",
    "            break\n",
    "            #player_on wygrał\n",
    "        elif full_board_check(board):\n",
    "            print('Draw - Full Board')\n",
    "            #board is full drew\n",
    "            break\n",
    "        else:\n",
    "            if player_on == 'Player1':\n",
    "                player_on = 'Player2'\n",
    "            else:\n",
    "                player_on = 'Player1'\n",
    "                \n",
    "    #if not play_again:\n",
    "    if not replay():\n",
    "        break\n",
    "    \n",
    "    "
   ]
  },
  {
   "cell_type": "markdown",
   "metadata": {
    "collapsed": true
   },
   "source": [
    "## Good Job!"
   ]
  }
 ],
 "metadata": {
  "kernelspec": {
   "display_name": "Python 3",
   "language": "python",
   "name": "python3"
  },
  "language_info": {
   "codemirror_mode": {
    "name": "ipython",
    "version": 3
   },
   "file_extension": ".py",
   "mimetype": "text/x-python",
   "name": "python",
   "nbconvert_exporter": "python",
   "pygments_lexer": "ipython3",
   "version": "3.7.3"
  }
 },
 "nbformat": 4,
 "nbformat_minor": 1
}
