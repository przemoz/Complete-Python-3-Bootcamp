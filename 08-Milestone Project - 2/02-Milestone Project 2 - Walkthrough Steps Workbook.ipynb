{
 "cells": [
  {
   "cell_type": "markdown",
   "metadata": {
    "collapsed": true
   },
   "source": [
    "# Milestone Project 2 - Walkthrough Steps Workbook\n",
    "Below is a set of steps for you to follow to try to create the Blackjack Milestone Project game!"
   ]
  },
  {
   "cell_type": "markdown",
   "metadata": {},
   "source": [
    "## Game Play\n",
    "To play a hand of Blackjack the following steps must be followed:\n",
    "1. Create a deck of 52 cards\n",
    "2. Shuffle the deck\n",
    "3. Ask the Player for their bet\n",
    "4. Make sure that the Player's bet does not exceed their available chips\n",
    "5. Deal two cards to the Dealer and two cards to the Player\n",
    "6. Show only one of the Dealer's cards, the other remains hidden\n",
    "7. Show both of the Player's cards\n",
    "8. Ask the Player if they wish to Hit, and take another card\n",
    "9. If the Player's hand doesn't Bust (go over 21), ask if they'd like to Hit again.\n",
    "10. If a Player Stands, play the Dealer's hand. The dealer will always Hit until the Dealer's value meets or exceeds 17\n",
    "11. Determine the winner and adjust the Player's chips accordingly\n",
    "12. Ask the Player if they'd like to play again"
   ]
  },
  {
   "cell_type": "markdown",
   "metadata": {},
   "source": [
    "## Playing Cards\n",
    "A standard deck of playing cards has four suits (Hearts, Diamonds, Spades and Clubs) and thirteen ranks (2 through 10, then the face cards Jack, Queen, King and Ace) for a total of 52 cards per deck. Jacks, Queens and Kings all have a rank of 10. Aces have a rank of either 11 or 1 as needed to reach 21 without busting. As a starting point in your program, you may want to assign variables to store a list of suits, ranks, and then use a dictionary to map ranks to values."
   ]
  },
  {
   "cell_type": "markdown",
   "metadata": {},
   "source": [
    "## The Game\n",
    "### Imports and Global Variables\n",
    "** Step 1: Import the random module. This will be used to shuffle the deck prior to dealing. Then, declare variables to store suits, ranks and values. You can develop your own system, or copy ours below. Finally, declare a Boolean value to be used to control <code>while</code> loops. This is a common practice used to control the flow of the game.**\n",
    "\n",
    "    suits = ('Hearts', 'Diamonds', 'Spades', 'Clubs')\n",
    "    ranks = ('Two', 'Three', 'Four', 'Five', 'Six', 'Seven', 'Eight', 'Nine', 'Ten', 'Jack', 'Queen', 'King', 'Ace')\n",
    "    values = {'Two':2, 'Three':3, 'Four':4, 'Five':5, 'Six':6, 'Seven':7, 'Eight':8, 'Nine':9, 'Ten':10, 'Jack':10,\n",
    "             'Queen':10, 'King':10, 'Ace':11}"
   ]
  },
  {
   "cell_type": "code",
   "execution_count": 2,
   "metadata": {},
   "outputs": [],
   "source": [
    "import random\n",
    "\n",
    "suits = ('Hearts', 'Diamonds', 'Spades', 'Clubs')\n",
    "ranks = ('Two', 'Three', 'Four', 'Five', 'Six', 'Seven', 'Eight', 'Nine', 'Ten', 'Jack', 'Queen', 'King', 'Ace')\n",
    "values = {'Two':2, 'Three':3, 'Four':4, 'Five':5, 'Six':6, 'Seven':7, 'Eight':8, 'Nine':9, 'Ten':10, 'Jack':10,\n",
    "         'Queen':10, 'King':10, 'Ace':11}\n",
    "\n",
    "playing = True\n",
    "\n"
   ]
  },
  {
   "cell_type": "markdown",
   "metadata": {},
   "source": [
    "### Class Definitions\n",
    "Consider making a Card class where each Card object has a suit and a rank, then a Deck class to hold all 52 Card objects, and can be shuffled, and finally a Hand class that holds those Cards that have been dealt to each player from the Deck."
   ]
  },
  {
   "cell_type": "markdown",
   "metadata": {},
   "source": [
    "**Step 2: Create a Card Class**<br>\n",
    "A Card object really only needs two attributes: suit and rank. You might add an attribute for \"value\" - we chose to handle value later when developing our Hand class.<br>In addition to the Card's \\_\\_init\\_\\_ method, consider adding a \\_\\_str\\_\\_ method that, when asked to print a Card, returns a string in the form \"Two of Hearts\""
   ]
  },
  {
   "cell_type": "code",
   "execution_count": 3,
   "metadata": {},
   "outputs": [],
   "source": [
    "class Card:\n",
    "    \n",
    "    def __init__(self,suit,rank):\n",
    "        self.suit = suit\n",
    "        self.rank = rank\n",
    "    \n",
    "    def __str__(self):\n",
    "        return '{} of {}'.format(self.rank,self.suit)"
   ]
  },
  {
   "cell_type": "markdown",
   "metadata": {},
   "source": [
    "**Step 3: Create a Deck Class**<br>\n",
    "Here we might store 52 card objects in a list that can later be shuffled. First, though, we need to *instantiate* all 52 unique card objects and add them to our list. So long as the Card class definition appears in our code, we can build Card objects inside our Deck \\_\\_init\\_\\_ method. Consider iterating over sequences of suits and ranks to build out each card. This might appear inside a Deck class \\_\\_init\\_\\_ method:\n",
    "\n",
    "    for suit in suits:\n",
    "        for rank in ranks:\n",
    "\n",
    "In addition to an \\_\\_init\\_\\_ method we'll want to add methods to shuffle our deck, and to deal out cards during gameplay.<br><br>\n",
    "OPTIONAL: We may never need to print the contents of the deck during gameplay, but having the ability to see the cards inside it may help troubleshoot any problems that occur during development. With this in mind, consider adding a \\_\\_str\\_\\_ method to the class definition."
   ]
  },
  {
   "cell_type": "code",
   "execution_count": 4,
   "metadata": {},
   "outputs": [],
   "source": [
    "class Deck:\n",
    "    deal_index = 0\n",
    "    \n",
    "    def __init__(self):\n",
    "        self.deck = []  # start with an empty list\n",
    "        for suit in suits:\n",
    "            for rank in ranks:\n",
    "                self.deck.append(Card(suit,rank))\n",
    "    \n",
    "    def __str__(self):\n",
    "        deck_of_cards_string = '| '\n",
    "        for card in self.deck:\n",
    "            deck_of_cards_string += str(card) + ' | '\n",
    "        return deck_of_cards_string\n",
    "\n",
    "    def shuffle(self):\n",
    "        random.shuffle(self.deck)\n",
    "        \n",
    "    def deal(self):\n",
    "        first_in_deck = self.deck[0]\n",
    "        self.deck = self.deck[1:]\n",
    "        return first_in_deck"
   ]
  },
  {
   "cell_type": "markdown",
   "metadata": {},
   "source": [
    "TESTING: Just to see that everything works so far, let's see what our Deck looks like!"
   ]
  },
  {
   "cell_type": "code",
   "execution_count": 5,
   "metadata": {},
   "outputs": [
    {
     "name": "stdout",
     "output_type": "stream",
     "text": [
      "| Two of Hearts | Three of Hearts | Four of Hearts | Five of Hearts | Six of Hearts | Seven of Hearts | Eight of Hearts | Nine of Hearts | Ten of Hearts | Jack of Hearts | Queen of Hearts | King of Hearts | Ace of Hearts | Two of Diamonds | Three of Diamonds | Four of Diamonds | Five of Diamonds | Six of Diamonds | Seven of Diamonds | Eight of Diamonds | Nine of Diamonds | Ten of Diamonds | Jack of Diamonds | Queen of Diamonds | King of Diamonds | Ace of Diamonds | Two of Spades | Three of Spades | Four of Spades | Five of Spades | Six of Spades | Seven of Spades | Eight of Spades | Nine of Spades | Ten of Spades | Jack of Spades | Queen of Spades | King of Spades | Ace of Spades | Two of Clubs | Three of Clubs | Four of Clubs | Five of Clubs | Six of Clubs | Seven of Clubs | Eight of Clubs | Nine of Clubs | Ten of Clubs | Jack of Clubs | Queen of Clubs | King of Clubs | Ace of Clubs | \n",
      "| Seven of Spades | Seven of Clubs | Nine of Clubs | Eight of Diamonds | Nine of Diamonds | Queen of Clubs | Five of Hearts | Four of Clubs | Two of Diamonds | Two of Spades | King of Clubs | Jack of Spades | Ten of Hearts | King of Spades | Six of Hearts | Queen of Diamonds | Ten of Clubs | Eight of Clubs | Three of Hearts | Nine of Spades | Jack of Hearts | Four of Hearts | Seven of Diamonds | Six of Spades | Queen of Spades | Three of Diamonds | King of Diamonds | Six of Diamonds | Ace of Hearts | Five of Spades | Queen of Hearts | Jack of Diamonds | Ace of Diamonds | Ace of Clubs | Nine of Hearts | Ten of Diamonds | Eight of Hearts | Eight of Spades | Two of Hearts | Four of Spades | Five of Clubs | Ace of Spades | Ten of Spades | King of Hearts | Three of Clubs | Four of Diamonds | Two of Clubs | Six of Clubs | Five of Diamonds | Seven of Hearts | Three of Spades | Jack of Clubs | \n",
      "Seven of Spades\n",
      "| Seven of Clubs | Nine of Clubs | Eight of Diamonds | Nine of Diamonds | Queen of Clubs | Five of Hearts | Four of Clubs | Two of Diamonds | Two of Spades | King of Clubs | Jack of Spades | Ten of Hearts | King of Spades | Six of Hearts | Queen of Diamonds | Ten of Clubs | Eight of Clubs | Three of Hearts | Nine of Spades | Jack of Hearts | Four of Hearts | Seven of Diamonds | Six of Spades | Queen of Spades | Three of Diamonds | King of Diamonds | Six of Diamonds | Ace of Hearts | Five of Spades | Queen of Hearts | Jack of Diamonds | Ace of Diamonds | Ace of Clubs | Nine of Hearts | Ten of Diamonds | Eight of Hearts | Eight of Spades | Two of Hearts | Four of Spades | Five of Clubs | Ace of Spades | Ten of Spades | King of Hearts | Three of Clubs | Four of Diamonds | Two of Clubs | Six of Clubs | Five of Diamonds | Seven of Hearts | Three of Spades | Jack of Clubs | \n"
     ]
    }
   ],
   "source": [
    "test_deck = Deck()\n",
    "print(test_deck)\n",
    "test_deck.shuffle()\n",
    "print(test_deck)\n",
    "print(test_deck.deal())\n",
    "print(test_deck)"
   ]
  },
  {
   "cell_type": "markdown",
   "metadata": {},
   "source": [
    "Great! Now let's move on to our Hand class."
   ]
  },
  {
   "cell_type": "markdown",
   "metadata": {},
   "source": [
    "**Step 4: Create a Hand Class**<br>\n",
    "In addition to holding Card objects dealt from the Deck, the Hand class may be used to calculate the value of those cards using the values dictionary defined above. It may also need to adjust for the value of Aces when appropriate."
   ]
  },
  {
   "cell_type": "code",
   "execution_count": 6,
   "metadata": {},
   "outputs": [],
   "source": [
    "class Hand:\n",
    "    def __init__(self):\n",
    "        self.cards = []  # start with an empty list as we did in the Deck class\n",
    "        self.value = 0   # start with zero value\n",
    "        self.aces = 0    # add an attribute to keep track of aces\n",
    "    \n",
    "    def add_card(self,card):\n",
    "        self.cards.append(card)\n",
    "        self.value += values[card.rank]\n",
    "        self.adjust_for_ace()\n",
    "    \n",
    "    def adjust_for_ace(self):\n",
    "        for card in self.cards:\n",
    "            if card.rank == 'Ace' and self.value > 21:\n",
    "                self.value -= 10\n",
    "\n",
    "    def get_cards_string(self):\n",
    "        cards_string = ' | '\n",
    "        for card in self.cards:\n",
    "            cards_string += str(card) + ' | '\n",
    "            print(str(card))\n",
    "    \n",
    "    def __str__(self):\n",
    "        cards_str = ' | '\n",
    "        for card in self.cards:\n",
    "            cards_str += ' ' + str(card) + ' | '\n",
    "        print('Cards: {}'.format(cards_str))\n",
    "        print('Value: {}'.format(self.value))\n",
    "        "
   ]
  },
  {
   "cell_type": "markdown",
   "metadata": {},
   "source": [
    "**Step 5: Create a Chips Class**<br>\n",
    "In addition to decks of cards and hands, we need to keep track of a Player's starting chips, bets, and ongoing winnings. This could be done using global variables, but in the spirit of object oriented programming, let's make a Chips class instead!"
   ]
  },
  {
   "cell_type": "code",
   "execution_count": 7,
   "metadata": {},
   "outputs": [],
   "source": [
    "class Chips:\n",
    "    \n",
    "    def __init__(self):\n",
    "        self.total = 100  # This can be set to a default value or supplied by a user input\n",
    "        self.bet = 0\n",
    "        \n",
    "    def win_bet(self):\n",
    "        self.total += self.bet\n",
    "    \n",
    "    def lose_bet(self):\n",
    "        self.total -= self.bet\n",
    "        \n",
    "    def set_bet(self,bet):\n",
    "        self.bet = bet"
   ]
  },
  {
   "cell_type": "markdown",
   "metadata": {},
   "source": [
    "### Function Defintions\n",
    "A lot of steps are going to be repetitive. That's where functions come in! The following steps are guidelines - add or remove functions as needed in your own program."
   ]
  },
  {
   "cell_type": "markdown",
   "metadata": {},
   "source": [
    "**Step 6: Write a function for taking bets**<br>\n",
    "Since we're asking the user for an integer value, this would be a good place to use <code>try</code>/<code>except</code>. Remember to check that a Player's bet can be covered by their available chips."
   ]
  },
  {
   "cell_type": "code",
   "execution_count": 8,
   "metadata": {},
   "outputs": [
    {
     "name": "stdout",
     "output_type": "stream",
     "text": [
      "You have 100 chips.\n",
      "How much would you like to bet (1-100)\n",
      "\n",
      "Your bet should be an integer naumber (1 - 100)\n",
      "You have 100 chips.\n",
      "How much would you like to bet (1-100)\n",
      "\n",
      "Your bet should be an integer naumber (1 - 100)\n",
      "You have 100 chips.\n",
      "How much would you like to bet (1-100)34\n"
     ]
    }
   ],
   "source": [
    "chips = Chips()\n",
    "def take_bet():\n",
    "    global chips\n",
    "    while True:\n",
    "        try:\n",
    "            print('You have {} chips.'.format(chips.total))\n",
    "            bet = int(input('How much would you like to bet (1-{})'.format(chips.total)))\n",
    "        except: \n",
    "            print('\\nYour bet should be an integer naumber ({} - {})'.format(1,chips.total))\n",
    "        else:\n",
    "            if bet <= chips.total:\n",
    "                break;\n",
    "    \n",
    "    chips.set_bet(bet)\n",
    "    \n",
    "take_bet()"
   ]
  },
  {
   "cell_type": "markdown",
   "metadata": {},
   "source": [
    "**Step 7: Write a function for taking hits**<br>\n",
    "Either player can take hits until they bust. This function will be called during gameplay anytime a Player requests a hit, or a Dealer's hand is less than 17. It should take in Deck and Hand objects as arguments, and deal one card off the deck and add it to the Hand. You may want it to check for aces in the event that a player's hand exceeds 21."
   ]
  },
  {
   "cell_type": "code",
   "execution_count": 9,
   "metadata": {},
   "outputs": [],
   "source": [
    "def hit(deck,hand):\n",
    "    card = deck.deal()\n",
    "    hand.add_card(card)"
   ]
  },
  {
   "cell_type": "markdown",
   "metadata": {},
   "source": [
    "**Step 8: Write a function prompting the Player to Hit or Stand**<br>\n",
    "This function should accept the deck and the player's hand as arguments, and assign playing as a global variable.<br>\n",
    "If the Player Hits, employ the hit() function above. If the Player Stands, set the playing variable to False - this will control the behavior of a <code>while</code> loop later on in our code."
   ]
  },
  {
   "cell_type": "code",
   "execution_count": 10,
   "metadata": {},
   "outputs": [],
   "source": [
    "def hit_or_stand(deck,hand):\n",
    "    global playing  # to control an upcoming while loop\n",
    "    \n",
    "    while True:\n",
    "        answer = input('Would You like to Hit(h/H) or Stand(s/S)?')\n",
    "        if answer in ['h','H','s','S']:\n",
    "            break;\n",
    "        else:\n",
    "             print('Your answer was incorrect.')\n",
    "          \n",
    "    if answer in ['h','H']:\n",
    "        hit(deck,hand)\n",
    "    else:\n",
    "        playing = False"
   ]
  },
  {
   "cell_type": "markdown",
   "metadata": {},
   "source": [
    "**Step 9: Write functions to display cards**<br>\n",
    "When the game starts, and after each time Player takes a card, the dealer's first card is hidden and all of Player's cards are visible. At the end of the hand all cards are shown, and you may want to show each hand's total value. Write a function for each of these scenarios."
   ]
  },
  {
   "cell_type": "code",
   "execution_count": 11,
   "metadata": {},
   "outputs": [],
   "source": [
    "def show_some(player,dealer):\n",
    "    print('First card of Dealer: {}'.format(dealer.cards[0]))\n",
    "    print(player.get_cards_string())\n",
    "    print('Player\\'s cards: {}'.format(player.get_cards_string()))\n",
    "    \n",
    "def show_all_cards(player,dealer):\n",
    "    print('Dealer\\'s cards: {}'.format(dealer.get_cards_string()))\n",
    "    print('Player\\'s cards: {}'.format(player.get_cards_string()))"
   ]
  },
  {
   "cell_type": "markdown",
   "metadata": {},
   "source": [
    "**Step 10: Write functions to handle end of game scenarios**<br>\n",
    "Remember to pass player's hand, dealer's hand and chips as needed."
   ]
  },
  {
   "cell_type": "code",
   "execution_count": 12,
   "metadata": {},
   "outputs": [],
   "source": [
    "def player_busts(player):\n",
    "    global chips\n",
    "    if player.value > 21:\n",
    "        chips.lose_bet()\n",
    "        return True\n",
    "    else: \n",
    "        return False\n",
    "\n",
    "def player_wins(player,dealer):\n",
    "    global chips\n",
    "    if player.value > dealer.value:\n",
    "        chips.win_bet()\n",
    "        return True\n",
    "    else:\n",
    "        return False\n",
    "    \n",
    "\n",
    "def dealer_busts(dealer):\n",
    "    global chips\n",
    "    if dealer.value > 21:\n",
    "        chips.win_bet()\n",
    "        return True\n",
    "    else:\n",
    "        return False\n",
    "        \n",
    "    \n",
    "def dealer_wins(player,dealer):\n",
    "    global chips\n",
    "    if dealer.value > player.value:\n",
    "        chips.lose_bet()\n",
    "        return True\n",
    "    else:\n",
    "        return False\n",
    "    \n",
    "def push():\n",
    "    pass"
   ]
  },
  {
   "cell_type": "markdown",
   "metadata": {},
   "source": [
    "### And now on to the game!!"
   ]
  },
  {
   "cell_type": "code",
   "execution_count": 13,
   "metadata": {
    "scrolled": false
   },
   "outputs": [
    {
     "name": "stdout",
     "output_type": "stream",
     "text": [
      "Welcome to Blackjack game\n",
      "You have 100 chips.\n",
      "How much would you like to bet (1-100)34\n",
      "\n",
      "First card of Dealer: Six of Spades\n",
      "Player's cards:  | Jack of Hearts | Ace of Diamonds | \n",
      "Player's value: 21\n",
      "\n",
      "Would You like to Hit(h/H) or Stand(s/S)?s\n",
      "\n",
      "First card of Dealer: Six of Spades\n",
      "Player's cards:  | Jack of Hearts | Ace of Diamonds | \n",
      "Player's value: 21\n",
      "\n",
      "DEALER BUSTED! PLAYER WON!\n",
      "\n",
      "############################################################\n",
      "Dealer's cards:  | Six of Spades | Six of Hearts | Ten of Spades | \n",
      "Dealer's value: 22\n",
      "############################################################\n",
      "Player's cards:  | Jack of Hearts | Ace of Diamonds | \n",
      "Player's value: 21\n",
      "############################################################\n",
      "\n",
      "\n",
      "Now You have 134 chips\n",
      "Do you want to play another game (y/n)?n\n"
     ]
    }
   ],
   "source": [
    "import random\n",
    "\n",
    "suits = ('Hearts', 'Diamonds', 'Spades', 'Clubs')\n",
    "ranks = ('Two', 'Three', 'Four', 'Five', 'Six', 'Seven', 'Eight', 'Nine', 'Ten', 'Jack', 'Queen', 'King', 'Ace')\n",
    "values = {'Two':2, 'Three':3, 'Four':4, 'Five':5, 'Six':6, 'Seven':7, 'Eight':8, 'Nine':9, 'Ten':10, 'Jack':10,\n",
    "         'Queen':10, 'King':10, 'Ace':11}\n",
    "\n",
    "class Card:\n",
    "    \n",
    "    def __init__(self,suit,rank):\n",
    "        self.suit = suit\n",
    "        self.rank = rank\n",
    "    \n",
    "    def __str__(self):\n",
    "        return '{} of {}'.format(self.rank,self.suit)\n",
    "\n",
    "\n",
    "class Deck:\n",
    "       \n",
    "    def __init__(self):\n",
    "        self.deck = []  # start with an empty list\n",
    "        for suit in suits:\n",
    "            for rank in ranks:\n",
    "                self.deck.append(Card(suit,rank))\n",
    "    \n",
    "    def __str__(self):\n",
    "        deck_of_cards_string = '| '\n",
    "        for card in self.deck:\n",
    "            deck_of_cards_string += str(card) + ' | '\n",
    "        return deck_of_cards_string\n",
    "\n",
    "    def shuffle(self):\n",
    "        random.shuffle(self.deck)\n",
    "        \n",
    "    def deal(self):\n",
    "        first_in_deck = self.deck[0]\n",
    "        self.deck = self.deck[1:]\n",
    "        return first_in_deck\n",
    "\n",
    "class Hand:\n",
    "    def __init__(self):\n",
    "        self.cards = []  # start with an empty list as we did in the Deck class\n",
    "        self.value = 0   # start with zero value\n",
    "        self.aces = 0    # add an attribute to keep track of aces\n",
    "    \n",
    "    def add_card(self,card):\n",
    "        self.cards.append(card)\n",
    "        self.value += values[card.rank]\n",
    "        if card.rank == 'Ace':\n",
    "            self.aces += 1\n",
    "\n",
    "        if self.value > 21:\n",
    "            self.adjust_for_ace()\n",
    "    \n",
    "    def adjust_for_ace(self):\n",
    "        if self.aces > 0:\n",
    "            self.value -= 10\n",
    "            self.aces -= 1\n",
    "\n",
    "    def get_cards_string(self):\n",
    "        cards_string = ' | '\n",
    "        for card in self.cards:\n",
    "            cards_string += str(card) + ' | '\n",
    "                    \n",
    "        return cards_string\n",
    "    \n",
    "    def __str__(self):\n",
    "        str = 'Cards: {}\\n'.format(self.get_cards_string())\n",
    "        str += 'Value: {}'.format(self.value)\n",
    "        return str\n",
    "\n",
    "class Chips:\n",
    "    \n",
    "    def __init__(self):\n",
    "        self.total = 100  # This can be set to a default value or supplied by a user input\n",
    "        self.bet = 0\n",
    "        \n",
    "    def win_bet(self):\n",
    "        self.total += self.bet\n",
    "    \n",
    "    def lose_bet(self):\n",
    "        self.total -= self.bet\n",
    "        \n",
    "    def set_bet(self,bet):\n",
    "        self.bet = bet\n",
    "\n",
    "def take_bet():\n",
    "    global chips\n",
    "    while True:\n",
    "        try:\n",
    "            print('You have {} chips.'.format(chips.total))\n",
    "            bet = int(input('How much would you like to bet (1-{})'.format(chips.total)))\n",
    "        except: \n",
    "            print('\\nYour bet should be an integer naumber ({} - {})'.format(1,chips.total))\n",
    "        else:\n",
    "            if bet <= chips.total:\n",
    "                break;\n",
    "    \n",
    "    chips.set_bet(bet)\n",
    "\n",
    "\n",
    "def hit(deck,hand):\n",
    "    card = deck.deal()\n",
    "    hand.add_card(card)\n",
    "\n",
    "def hit_or_stand(deck,hand):\n",
    "    global playing  # to control an upcoming while loop\n",
    "    \n",
    "    while True:\n",
    "        answer = input('Would You like to Hit(h/H) or Stand(s/S)?')\n",
    "        if answer in ['h','H','s','S']:\n",
    "            break;\n",
    "        else:\n",
    "             print('Your answer was incorrect.')\n",
    "          \n",
    "    if answer in ['h','H']:\n",
    "        hit(deck,hand)\n",
    "    else:\n",
    "        playing = False\n",
    "\n",
    "def show_some(player,dealer):\n",
    "    print('')\n",
    "    print('First card of Dealer: {}'.format(dealer.cards[0]))\n",
    "    print('Player\\'s cards: {}'.format(player.get_cards_string()))\n",
    "    print('Player\\'s value: {}'.format(player.value))\n",
    "    print('')\n",
    "    \n",
    "def show_all_cards(player,dealer):\n",
    "    print('')\n",
    "    print('############################################################')\n",
    "    print('Dealer\\'s cards: {}'.format(dealer.get_cards_string()))\n",
    "    print('Dealer\\'s value: {}'.format(dealer.value))\n",
    "    print('############################################################')\n",
    "    print('Player\\'s cards: {}'.format(player.get_cards_string()))\n",
    "    print('Player\\'s value: {}'.format(player.value))\n",
    "    print('############################################################')\n",
    "    print('')\n",
    "\n",
    "def player_busts(player):\n",
    "    global chips\n",
    "    if player.value > 21:\n",
    "        chips.lose_bet()\n",
    "        return True\n",
    "    else: \n",
    "        return False\n",
    "\n",
    "def player_wins(player,dealer):\n",
    "    global chips\n",
    "    if player.value > dealer.value:\n",
    "        chips.win_bet()\n",
    "        return True\n",
    "    else:\n",
    "        return False\n",
    "    \n",
    "\n",
    "def dealer_busts(dealer):\n",
    "    global chips\n",
    "    if dealer.value > 21:\n",
    "        chips.win_bet()\n",
    "        return True\n",
    "    else:\n",
    "        return False\n",
    "        \n",
    "    \n",
    "def dealer_wins(player,dealer):\n",
    "    global chips\n",
    "    if dealer.value > player.value:\n",
    "        chips.lose_bet()\n",
    "        return True\n",
    "    else:\n",
    "        return False\n",
    "    \n",
    "def push():\n",
    "    pass\n",
    "\n",
    "# Set up the Player's chips \n",
    "chips = Chips()\n",
    "\n",
    "while True:\n",
    "    # Print an opening statement\n",
    "    print('Welcome to Blackjack game')\n",
    "       \n",
    "    # Create & shuffle the deck, deal two cards to each player\n",
    "    # One game round\n",
    "      \n",
    "    playing = True\n",
    "    player_busted = False\n",
    "    \n",
    "    deck = Deck()\n",
    "    deck.shuffle()\n",
    "    \n",
    "    player = Hand()\n",
    "    hit(deck,player)\n",
    "    hit(deck,player)\n",
    "    \n",
    "    dealer = Hand()\n",
    "    hit(deck,dealer)\n",
    "    hit(deck,dealer)\n",
    "    \n",
    "    \n",
    "    \n",
    "    # Prompt the Player for their bet\n",
    "    take_bet()\n",
    "    \n",
    "    # Show cards (but keep one dealer card hidden)\n",
    "    show_some(player,dealer)\n",
    "        \n",
    "    while playing:  # recall this variable from our hit_or_stand function\n",
    "            \n",
    "        # Prompt for Player to Hit or Stand\n",
    "        hit_or_stand(deck,player)\n",
    "        \n",
    "        # Show cards (hbut keep one dealer card hidden)\n",
    "        show_some(player,dealer)\n",
    "         \n",
    "        # If player's hand exceeds 21, run player_busts() and break out of loop\n",
    "        player_busted = player_busts(player)\n",
    "        if player_busted:\n",
    "            print('PLAYER BUSTED! DEALER WON!')\n",
    "            break\n",
    "\n",
    "    # If Player hasn't busted, play Dealer's hand until Dealer reaches 17\n",
    "    if not player_busted:\n",
    "        while dealer.value <=17:\n",
    "            hit(deck,dealer)\n",
    "                \n",
    "        # Show all cards\n",
    "        if dealer_busts(dealer):\n",
    "            print('DEALER BUSTED! PLAYER WON!')\n",
    "            show_all_cards(player,dealer)\n",
    "        else: \n",
    "            print('')\n",
    "            show_all_cards(player,dealer)\n",
    "    \n",
    "        # Run different winning scenarios\n",
    "            if player_wins(player,dealer):\n",
    "                print('PLAYER WON!')\n",
    "            elif dealer_wins(player,dealer):\n",
    "                print('DEALER WON!')\n",
    "            else:\n",
    "                print('DRAW!')        \n",
    "    \n",
    "    # Inform Player of their chips total \n",
    "    print('\\nNow You have {} chips'.format(chips.total))\n",
    "    \n",
    "    if chips.total == 0:\n",
    "        print('You don\\'t have the means to play. END OF THE GAME!')\n",
    "        break\n",
    "\n",
    "    # Ask to play againp\n",
    "    answer = ''\n",
    "    while answer != 'y' and answer != 'n':\n",
    "        answer = input('Do you want to play another game (y/n)?')\n",
    "\n",
    "    if answer == 'n':\n",
    "        break\n"
   ]
  },
  {
   "cell_type": "markdown",
   "metadata": {},
   "source": [
    "And that's it! Remember, these steps may differ significantly from your own solution. That's OK! Keep working on different sections of your program until you get the desired results. It takes a lot of time and patience! As always, feel free to post questions and comments to the QA Forums.\n",
    "# Good job!"
   ]
  },
  {
   "cell_type": "code",
   "execution_count": null,
   "metadata": {},
   "outputs": [],
   "source": []
  }
 ],
 "metadata": {
  "kernelspec": {
   "display_name": "Python 3",
   "language": "python",
   "name": "python3"
  },
  "language_info": {
   "codemirror_mode": {
    "name": "ipython",
    "version": 3
   },
   "file_extension": ".py",
   "mimetype": "text/x-python",
   "name": "python",
   "nbconvert_exporter": "python",
   "pygments_lexer": "ipython3",
   "version": "3.7.3"
  }
 },
 "nbformat": 4,
 "nbformat_minor": 1
}
